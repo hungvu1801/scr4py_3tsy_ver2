{
 "cells": [
  {
   "cell_type": "code",
   "execution_count": 2,
   "id": "672341d2-df7e-4fe8-b675-d9751e465790",
   "metadata": {},
   "outputs": [],
   "source": [
    "import logging\n",
    "\n",
    "import requests\n",
    "from selenium import webdriver\n",
    "\n",
    "from selenium.webdriver.chrome.service import Service\n",
    "from selenium.webdriver.chrome.options import Options\n",
    "from selenium.webdriver.common.by import By\n",
    "from selenium.webdriver.common.keys import Keys\n",
    "from selenium.webdriver.support.ui import WebDriverWait\n",
    "from selenium.webdriver.support import expected_conditions as EC\n",
    "import os\n",
    "import time\n",
    "from selenium.webdriver.common.action_chains import ActionChains\n",
    "import requests"
   ]
  },
  {
   "cell_type": "code",
   "execution_count": null,
   "id": "0ea4da9b-5d04-4a7b-8180-d978531d1c2d",
   "metadata": {},
   "outputs": [],
   "source": []
  },
  {
   "cell_type": "code",
   "execution_count": 2,
   "id": "6ad827b4-fcec-461d-a238-c95fe228458b",
   "metadata": {},
   "outputs": [],
   "source": [
    "def open_gemlogin_driver(profile_id: str) -> webdriver.Chrome:\n",
    "    BASE_URL = os.getenv(\"BASE_URL\", \"http://localhost:1010\")\n",
    "    response = requests.get(f\"{BASE_URL}/api/profiles/start/{profile_id}\", timeout=10)\n",
    "    response.raise_for_status()\n",
    "\n",
    "    if response.status_code != 200:\n",
    "        return None\n",
    "    \n",
    "    response_json = response.json()\n",
    "    data = response_json.get('data')\n",
    "    ## Get resource from response\n",
    "    driver_path = data.get('driver_path')\n",
    "    remote_address = data.get('remote_debugging_address')\n",
    "    \n",
    "    if not remote_address:\n",
    "    # chrome_options is already initialized on line 96, redundant initialization removed.\n",
    "        return None\n",
    "\n",
    "    chrome_options = Options()\n",
    "    chrome_service = Service(\n",
    "        executable_path=driver_path,\n",
    "    )\n",
    "\n",
    "    # Uncomment the following line to override the user agent for debugging or testing purposes.\n",
    "    # driver.execute_cdp_cmd(\"Network.setUserAgentOverride\", {\"userAgent\": random.choice(USER_AGENTS)})\n",
    "    \n",
    "    chrome_options.set_capability('goog:loggingPrefs', {'performance': 'ALL'})\n",
    "    chrome_options.add_argument('--window-size=1920x1080')\n",
    "    chrome_options.debugger_address = remote_address\n",
    "    \n",
    "    driver = webdriver.Chrome(service=chrome_service, options=chrome_options)\n",
    "    # driver.execute_cdp_cmd(\"Network.setUserAgentOverride\", {\"userAgent\": random.choice(USER_AGENTS)})\n",
    "    return driver\n",
    "\n",
    "def close_gemlogin_driver(profile_id) -> bool:\n",
    "    BASE_URL = os.getenv(\"BASE_URL\", \"http://localhost:1010\")\n",
    "    response = requests.get(f\"{BASE_URL}/api/profiles/close/{profile_id}\", timeout=10)\n",
    "    return response.status_code == 200\n"
   ]
  },
  {
   "cell_type": "code",
   "execution_count": 3,
   "id": "d43a2dc2-94f0-4d01-821a-27f3f46a76ba",
   "metadata": {},
   "outputs": [],
   "source": [
    "driver = open_gemlogin_driver(\"2\")"
   ]
  },
  {
   "cell_type": "markdown",
   "id": "04267adc-5f5b-447f-9872-14ddecdb23fc",
   "metadata": {},
   "source": [
    "### Ratio check"
   ]
  },
  {
   "cell_type": "code",
   "execution_count": 10,
   "id": "3d930880-4c75-4b4a-b520-c0558a6c0eb6",
   "metadata": {},
   "outputs": [
    {
     "data": {
      "text/plain": [
       "'17:15'"
      ]
     },
     "execution_count": 10,
     "metadata": {},
     "output_type": "execute_result"
    }
   ],
   "source": [
    "driver.find_element(By.XPATH, \"//div[@class='MuiBox-root css-1dktxqu']/div[3]\").text"
   ]
  },
  {
   "cell_type": "code",
   "execution_count": 12,
   "id": "3caaedcb-49a4-4a63-aa87-cb70cd061cef",
   "metadata": {},
   "outputs": [],
   "source": [
    "driver.find_element(By.XPATH, \"//div[@class='MuiBox-root css-12lxzkk']/button[2]\").click()"
   ]
  },
  {
   "cell_type": "code",
   "execution_count": 11,
   "id": "674ac11b-b9a2-4fa7-bdd0-06c6ab04eae8",
   "metadata": {},
   "outputs": [],
   "source": [
    "driver.find_element(By.XPATH, \"//div[@class='MuiBox-root css-1dktxqu']/div[3]\").click()"
   ]
  },
  {
   "cell_type": "code",
   "execution_count": 21,
   "id": "26e0c70a-a2d6-4294-a96c-f41b7d755355",
   "metadata": {},
   "outputs": [],
   "source": [
    "input_width = driver.find_element(By.XPATH, \"//div[@class='MuiBox-root css-125dcud']/div[1]/div[1]//input\")"
   ]
  },
  {
   "cell_type": "code",
   "execution_count": 19,
   "id": "76168f93-f90d-4672-bef6-679381e33495",
   "metadata": {},
   "outputs": [
    {
     "data": {
      "text/plain": [
       "<selenium.webdriver.remote.webelement.WebElement (session=\"b913d6b1e154eda81a7c9dd707fdbf2b\", element=\"f.6499F483ADFCB1F1E5EB43FB45297108.d.386E10D456A45225AB9821A65E6ECCEC.e.7907\")>"
      ]
     },
     "execution_count": 19,
     "metadata": {},
     "output_type": "execute_result"
    }
   ],
   "source": [
    "width_text"
   ]
  },
  {
   "cell_type": "code",
   "execution_count": 23,
   "id": "47ada9f5-072d-4525-9d52-4c3192ba71e1",
   "metadata": {},
   "outputs": [],
   "source": [
    "input_width.clear()"
   ]
  },
  {
   "cell_type": "code",
   "execution_count": 24,
   "id": "b376addb-8863-4d86-8a06-71a4dc14533d",
   "metadata": {},
   "outputs": [],
   "source": [
    "input_width.send_keys(\"1088\")"
   ]
  },
  {
   "cell_type": "code",
   "execution_count": 52,
   "id": "b0db5291-29cc-444b-bbcd-483a23a753cf",
   "metadata": {},
   "outputs": [],
   "source": [
    "input_height = driver.find_element(By.XPATH, \"//div[@class='MuiBox-root css-125dcud']/div[1]/div[2]//input\")\n",
    "input_height.send_keys(\"delete\")\n",
    "actions = ActionChains(driver)\n",
    "actions.double_click(input_height).perform()\n",
    "time.sleep(1)\n",
    "for char in \"960\":\n",
    "    input_height.send_keys(char)\n",
    "    time.sleep(0.1)"
   ]
  },
  {
   "cell_type": "code",
   "execution_count": 40,
   "id": "3b9a7cff-6c63-400c-ad8b-02070414a5a8",
   "metadata": {},
   "outputs": [],
   "source": [
    "input_height.clear()"
   ]
  },
  {
   "cell_type": "code",
   "execution_count": 54,
   "id": "f4df5a78-ac39-44e2-b110-f5d2eac4c0db",
   "metadata": {},
   "outputs": [
    {
     "data": {
      "text/plain": [
       "'3.0  Default x 4'"
      ]
     },
     "execution_count": 54,
     "metadata": {},
     "output_type": "execute_result"
    }
   ],
   "source": [
    "driver.find_element(By.XPATH, \"//div[@class='MuiBox-root css-1dktxqu']/div[5]\").text"
   ]
  },
  {
   "cell_type": "code",
   "execution_count": 6,
   "id": "7799019d-9a7f-456b-b9c3-d40238478713",
   "metadata": {},
   "outputs": [],
   "source": [
    "driver.find_element(By.XPATH, \"//div[@class='MuiBox-root css-1dktxqu']/div[5]\").click()\n",
    "time.sleep(1)\n",
    "driver.find_element(\n",
    "    By.XPATH, f\"//div[@class='MuiToggleButtonGroup-root css-1s9svmu']/button[2]\").click()\n",
    "time.sleep(1)\n",
    "driver.find_element(By.XPATH, \"//div[@class='MuiBox-root css-1dktxqu']/div[5]\").click()"
   ]
  },
  {
   "cell_type": "code",
   "execution_count": 8,
   "id": "cccca7d9-f0c4-4520-b3bb-72ff66a5a79b",
   "metadata": {},
   "outputs": [],
   "source": [
    "driver.find_element(By.XPATH, \"//div[@class='MuiBox-root css-1dktxqu']/div[9]\").click()"
   ]
  },
  {
   "cell_type": "code",
   "execution_count": 11,
   "id": "9fdd8187-87f0-4283-9047-fab5a2697b7e",
   "metadata": {},
   "outputs": [],
   "source": [
    "design = \"Design\"\n",
    "design_dict = {\n",
    "            \"Auto\": 1,\n",
    "            \"Random\": 2,\n",
    "            \"General\": 3,\n",
    "            \"Realistic\": 4,\n",
    "            \"Design\": 5,\n",
    "        }"
   ]
  },
  {
   "cell_type": "code",
   "execution_count": 12,
   "id": "9ce1fd8c-768d-4426-9054-4585d37b8590",
   "metadata": {},
   "outputs": [],
   "source": [
    "driver.find_element(\n",
    "            By.XPATH, f\"//div[@class='MuiBox-root css-r7ft4d']/div[{design_dict[design]}]\").click()"
   ]
  },
  {
   "cell_type": "code",
   "execution_count": 43,
   "id": "9295865b-c43b-43ae-9261-fde332201124",
   "metadata": {},
   "outputs": [],
   "source": [
    "textarea = driver.find_element(By.XPATH, \"//textarea[@placeholder='Describe what you want to see']\")\n",
    "textarea.send_keys(\"Hello, this is a test input from Selenium!\")"
   ]
  },
  {
   "cell_type": "code",
   "execution_count": 45,
   "id": "eb777df9-0145-4fd7-9c5b-7b1ec81b55a3",
   "metadata": {},
   "outputs": [],
   "source": [
    "data = \"Visual Description: The artwork features a whimsical gnome dressed as a Halloween witch, riding a broomstick against a large, stylized full moon backdrop. The gnome has a long white beard, a bulbous nose, and wears a large, pointed purple witch's hat adorned with gold stars and a purple band.  The gnome's attire is dark purple with gold star accents, matching the hat.  He clutches the broomstick with gloved hands. The broomstick is wooden and appears to have some texture. The moon is a dominant element, rendered in a warm golden-orange hue, contrasting against the dark background. It has a slightly textured surface, hinting at craters, and emits a soft glow that illuminates the surrounding scene.  Bats silhouette against the moon, adding to the Halloween theme.  Purple and orange glowing jack-o'-lanterns sit in the foreground, flanked by stylized purple flowers with glowing centers.  Hanging lanterns with glowing candles add to the magical ambiance.  The overall scene has a soft, diffused glow, with highlights on the gnome, moon, pumpkins, and flowers. The background is a deep, dark purple-black, speckled with small, glittering stars, giving a sense of depth; Art Style: Whimsical, illustrative digital painting with a blend of cartoonish character design and detailed background elements, featuring glowing effects and soft, painterly textures; Mood: Playful, magical, whimsical with a touch of Halloween spookiness; Layout: Centered composition with the gnome and moon as focal points, balanced by the surrounding elements.  Elements like flowers, lanterns, and bats create a frame around the central figures, leading the eye inward; Font: no text present\""
   ]
  },
  {
   "cell_type": "code",
   "execution_count": 46,
   "id": "a269d2ea-037c-489a-953d-8ca10d0f75f3",
   "metadata": {},
   "outputs": [],
   "source": [
    "textarea.send_keys(data)"
   ]
  },
  {
   "cell_type": "code",
   "execution_count": 19,
   "id": "54627522-5933-42e3-8dae-3a6a71768fdc",
   "metadata": {},
   "outputs": [],
   "source": [
    "actions = ActionChains(driver)\n",
    "actions.double_click(textarea).perform()"
   ]
  },
  {
   "cell_type": "code",
   "execution_count": 44,
   "id": "7ddc34eb-934c-4e13-a570-b6b77e35887e",
   "metadata": {},
   "outputs": [],
   "source": [
    "textarea.send_keys(Keys.CONTROL, 'a')\n",
    "textarea.send_keys(Keys.DELETE)"
   ]
  },
  {
   "cell_type": "code",
   "execution_count": 48,
   "id": "8d8da888-1444-4e33-9a6d-6322af4e538d",
   "metadata": {},
   "outputs": [],
   "source": [
    "generate_button = driver.find_element(\n",
    "    By.XPATH, \"(//div[@class='MuiBox-root css-hn2z7n']//button[contains(@class, 'MuiButtonBase-root')])[2]\")"
   ]
  },
  {
   "cell_type": "code",
   "execution_count": 49,
   "id": "6693542b-2117-4364-8907-130add4c4d59",
   "metadata": {},
   "outputs": [],
   "source": [
    "generate_button.click()"
   ]
  },
  {
   "cell_type": "code",
   "execution_count": 51,
   "id": "3813124b-bb8b-4975-a2c4-d9e60977c48a",
   "metadata": {},
   "outputs": [],
   "source": [
    "p_elem = WebDriverWait(driver, 10).until(\n",
    "        EC.presence_of_element_located(\n",
    "            (By.XPATH, \n",
    "             \"//p[@class='MuiTypography-root MuiTypography-body1 css-1bhxqar']\")))"
   ]
  },
  {
   "cell_type": "code",
   "execution_count": 52,
   "id": "57236631-1d72-49c2-8c06-34fc531fcc37",
   "metadata": {},
   "outputs": [
    {
     "data": {
      "text/plain": [
       "'Generation complete'"
      ]
     },
     "execution_count": 52,
     "metadata": {},
     "output_type": "execute_result"
    }
   ],
   "source": [
    "p_elem.text"
   ]
  },
  {
   "cell_type": "code",
   "execution_count": 54,
   "id": "05266fdc-9dc3-49db-8564-ce67a8bce476",
   "metadata": {},
   "outputs": [],
   "source": [
    "img_elem = WebDriverWait(driver, 10).until(\n",
    "        EC.presence_of_all_elements_located(\n",
    "            (By.XPATH, \"//div[@class='MuiGrid-root MuiGrid-item MuiGrid-grid-xs-6 css-1s50f5r']\")))"
   ]
  },
  {
   "cell_type": "code",
   "execution_count": 55,
   "id": "ce22a518-0d77-4034-9ddd-00971e00a6e2",
   "metadata": {},
   "outputs": [
    {
     "data": {
      "text/plain": [
       "[<selenium.webdriver.remote.webelement.WebElement (session=\"b0b6b3aa29e2e9c1bcad47d819662226\", element=\"f.BEEF5FA595A29091AFBCD36B316625D7.d.FB78C8CF72DDB554114887982606639F.e.51598\")>,\n",
       " <selenium.webdriver.remote.webelement.WebElement (session=\"b0b6b3aa29e2e9c1bcad47d819662226\", element=\"f.BEEF5FA595A29091AFBCD36B316625D7.d.FB78C8CF72DDB554114887982606639F.e.51599\")>]"
      ]
     },
     "execution_count": 55,
     "metadata": {},
     "output_type": "execute_result"
    }
   ],
   "source": [
    "img_elem"
   ]
  },
  {
   "cell_type": "code",
   "execution_count": 3,
   "id": "bd23bb94-e4b7-4364-9de9-61dbc6540400",
   "metadata": {},
   "outputs": [],
   "source": [
    "path = \"a.png\"\n",
    "response = requests.get(url=\"https://ideogram.ai/assets/progressive-image/balanced/response/cAXG9o2aSHy-9NgDRB_P9Q\", timeout=10)\n",
    "if response.status_code == 200:\n",
    "    with open(path, 'wb') as f:\n",
    "        f.write(response.content)"
   ]
  },
  {
   "cell_type": "code",
   "execution_count": null,
   "id": "0d5505e8-5a14-4ba9-9ed2-d4d17d3c04b4",
   "metadata": {},
   "outputs": [],
   "source": []
  }
 ],
 "metadata": {
  "kernelspec": {
   "display_name": "Python 3 (ipykernel)",
   "language": "python",
   "name": "python3"
  },
  "language_info": {
   "codemirror_mode": {
    "name": "ipython",
    "version": 3
   },
   "file_extension": ".py",
   "mimetype": "text/x-python",
   "name": "python",
   "nbconvert_exporter": "python",
   "pygments_lexer": "ipython3",
   "version": "3.11.11"
  }
 },
 "nbformat": 4,
 "nbformat_minor": 5
}
