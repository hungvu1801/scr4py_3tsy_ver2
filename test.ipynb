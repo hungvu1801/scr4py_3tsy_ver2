{
 "cells": [
  {
   "cell_type": "code",
   "execution_count": 1,
   "id": "672341d2-df7e-4fe8-b675-d9751e465790",
   "metadata": {},
   "outputs": [],
   "source": [
    "import logging\n",
    "\n",
    "import requests\n",
    "from selenium import webdriver\n",
    "\n",
    "from selenium.webdriver.chrome.service import Service\n",
    "from selenium.webdriver.chrome.options import Options\n",
    "from selenium.webdriver.common.by import By\n",
    "from selenium.webdriver.common.keys import Keys\n",
    "from selenium.webdriver.support.ui import WebDriverWait\n",
    "from selenium.webdriver.support import expected_conditions as EC\n",
    "import os\n",
    "import time\n",
    "from selenium.webdriver.common.action_chains import ActionChains\n",
    "import requests"
   ]
  },
  {
   "cell_type": "code",
   "execution_count": null,
   "id": "0ea4da9b-5d04-4a7b-8180-d978531d1c2d",
   "metadata": {},
   "outputs": [],
   "source": []
  },
  {
   "cell_type": "code",
   "execution_count": 7,
   "id": "6ad827b4-fcec-461d-a238-c95fe228458b",
   "metadata": {},
   "outputs": [],
   "source": [
    "def open_gemlogin_driver(profile_id: str) -> webdriver.Chrome:\n",
    "    BASE_URL = os.getenv(\"BASE_URL\", \"http://localhost:1010\")\n",
    "    response = requests.get(f\"{BASE_URL}/api/profiles/start/{profile_id}\", timeout=10)\n",
    "    response.raise_for_status()\n",
    "\n",
    "    if response.status_code != 200:\n",
    "        return None\n",
    "    \n",
    "    response_json = response.json()\n",
    "    data = response_json.get('data')\n",
    "    ## Get resource from response\n",
    "    driver_path = data.get('driver_path')\n",
    "    remote_address = data.get('remote_debugging_address')\n",
    "    \n",
    "    if not remote_address:\n",
    "    # chrome_options is already initialized on line 96, redundant initialization removed.\n",
    "        return None\n",
    "\n",
    "    chrome_options = Options()\n",
    "    chrome_service = Service(\n",
    "        executable_path=driver_path,\n",
    "    )\n",
    "\n",
    "    # Uncomment the following line to override the user agent for debugging or testing purposes.\n",
    "    # driver.execute_cdp_cmd(\"Network.setUserAgentOverride\", {\"userAgent\": random.choice(USER_AGENTS)})\n",
    "    \n",
    "    chrome_options.set_capability('goog:loggingPrefs', {'performance': 'ALL'})\n",
    "    chrome_options.add_argument('--window-size=1920x1080')\n",
    "    chrome_options.debugger_address = remote_address\n",
    "    \n",
    "    driver = webdriver.Chrome(service=chrome_service, options=chrome_options)\n",
    "    # driver.execute_cdp_cmd(\"Network.setUserAgentOverride\", {\"userAgent\": random.choice(USER_AGENTS)})\n",
    "    return driver\n",
    "\n",
    "def close_gemlogin_driver(profile_id) -> bool:\n",
    "    BASE_URL = os.getenv(\"BASE_URL\", \"http://localhost:1010\")\n",
    "    response = requests.get(f\"{BASE_URL}/api/profiles/close/{profile_id}\", timeout=10)\n",
    "    return response.status_code == 200\n"
   ]
  },
  {
   "cell_type": "code",
   "execution_count": 17,
   "id": "d43a2dc2-94f0-4d01-821a-27f3f46a76ba",
   "metadata": {},
   "outputs": [],
   "source": [
    "driver_3 = open_gemlogin_driver(\"3\")"
   ]
  },
  {
   "cell_type": "markdown",
   "id": "04267adc-5f5b-447f-9872-14ddecdb23fc",
   "metadata": {},
   "source": [
    "### Ratio check"
   ]
  },
  {
   "cell_type": "code",
   "execution_count": 10,
   "id": "3d930880-4c75-4b4a-b520-c0558a6c0eb6",
   "metadata": {},
   "outputs": [
    {
     "data": {
      "text/plain": [
       "'17:15'"
      ]
     },
     "execution_count": 10,
     "metadata": {},
     "output_type": "execute_result"
    }
   ],
   "source": [
    "driver.find_element(By.XPATH, \"//div[@class='MuiBox-root css-1dktxqu']/div[3]\").text"
   ]
  },
  {
   "cell_type": "code",
   "execution_count": 12,
   "id": "3caaedcb-49a4-4a63-aa87-cb70cd061cef",
   "metadata": {},
   "outputs": [],
   "source": [
    "driver.find_element(By.XPATH, \"//div[@class='MuiBox-root css-12lxzkk']/button[2]\").click()"
   ]
  },
  {
   "cell_type": "code",
   "execution_count": 11,
   "id": "674ac11b-b9a2-4fa7-bdd0-06c6ab04eae8",
   "metadata": {},
   "outputs": [],
   "source": [
    "driver.find_element(By.XPATH, \"//div[@class='MuiBox-root css-1dktxqu']/div[3]\").click()"
   ]
  },
  {
   "cell_type": "code",
   "execution_count": 21,
   "id": "26e0c70a-a2d6-4294-a96c-f41b7d755355",
   "metadata": {},
   "outputs": [],
   "source": [
    "input_width = driver.find_element(By.XPATH, \"//div[@class='MuiBox-root css-125dcud']/div[1]/div[1]//input\")"
   ]
  },
  {
   "cell_type": "code",
   "execution_count": 19,
   "id": "76168f93-f90d-4672-bef6-679381e33495",
   "metadata": {},
   "outputs": [
    {
     "data": {
      "text/plain": [
       "<selenium.webdriver.remote.webelement.WebElement (session=\"b913d6b1e154eda81a7c9dd707fdbf2b\", element=\"f.6499F483ADFCB1F1E5EB43FB45297108.d.386E10D456A45225AB9821A65E6ECCEC.e.7907\")>"
      ]
     },
     "execution_count": 19,
     "metadata": {},
     "output_type": "execute_result"
    }
   ],
   "source": [
    "width_text"
   ]
  },
  {
   "cell_type": "code",
   "execution_count": 23,
   "id": "47ada9f5-072d-4525-9d52-4c3192ba71e1",
   "metadata": {},
   "outputs": [],
   "source": [
    "input_width.clear()"
   ]
  },
  {
   "cell_type": "code",
   "execution_count": 24,
   "id": "b376addb-8863-4d86-8a06-71a4dc14533d",
   "metadata": {},
   "outputs": [],
   "source": [
    "input_width.send_keys(\"1088\")"
   ]
  },
  {
   "cell_type": "code",
   "execution_count": 52,
   "id": "b0db5291-29cc-444b-bbcd-483a23a753cf",
   "metadata": {},
   "outputs": [],
   "source": [
    "input_height = driver.find_element(By.XPATH, \"//div[@class='MuiBox-root css-125dcud']/div[1]/div[2]//input\")\n",
    "input_height.send_keys(\"delete\")\n",
    "actions = ActionChains(driver)\n",
    "actions.double_click(input_height).perform()\n",
    "time.sleep(1)\n",
    "for char in \"960\":\n",
    "    input_height.send_keys(char)\n",
    "    time.sleep(0.1)"
   ]
  },
  {
   "cell_type": "code",
   "execution_count": 40,
   "id": "3b9a7cff-6c63-400c-ad8b-02070414a5a8",
   "metadata": {},
   "outputs": [],
   "source": [
    "input_height.clear()"
   ]
  },
  {
   "cell_type": "code",
   "execution_count": 54,
   "id": "f4df5a78-ac39-44e2-b110-f5d2eac4c0db",
   "metadata": {},
   "outputs": [
    {
     "data": {
      "text/plain": [
       "'3.0  Default x 4'"
      ]
     },
     "execution_count": 54,
     "metadata": {},
     "output_type": "execute_result"
    }
   ],
   "source": [
    "driver.find_element(By.XPATH, \"//div[@class='MuiBox-root css-1dktxqu']/div[5]\").text"
   ]
  },
  {
   "cell_type": "code",
   "execution_count": 6,
   "id": "7799019d-9a7f-456b-b9c3-d40238478713",
   "metadata": {},
   "outputs": [],
   "source": [
    "driver.find_element(By.XPATH, \"//div[@class='MuiBox-root css-1dktxqu']/div[5]\").click()\n",
    "time.sleep(1)\n",
    "driver.find_element(\n",
    "    By.XPATH, f\"//div[@class='MuiToggleButtonGroup-root css-1s9svmu']/button[2]\").click()\n",
    "time.sleep(1)\n",
    "driver.find_element(By.XPATH, \"//div[@class='MuiBox-root css-1dktxqu']/div[5]\").click()"
   ]
  },
  {
   "cell_type": "code",
   "execution_count": 8,
   "id": "cccca7d9-f0c4-4520-b3bb-72ff66a5a79b",
   "metadata": {},
   "outputs": [],
   "source": [
    "driver.find_element(By.XPATH, \"//div[@class='MuiBox-root css-1dktxqu']/div[9]\").click()"
   ]
  },
  {
   "cell_type": "code",
   "execution_count": 11,
   "id": "9fdd8187-87f0-4283-9047-fab5a2697b7e",
   "metadata": {},
   "outputs": [],
   "source": [
    "design = \"Design\"\n",
    "design_dict = {\n",
    "            \"Auto\": 1,\n",
    "            \"Random\": 2,\n",
    "            \"General\": 3,\n",
    "            \"Realistic\": 4,\n",
    "            \"Design\": 5,\n",
    "        }"
   ]
  },
  {
   "cell_type": "code",
   "execution_count": 12,
   "id": "9ce1fd8c-768d-4426-9054-4585d37b8590",
   "metadata": {},
   "outputs": [],
   "source": [
    "driver.find_element(\n",
    "            By.XPATH, f\"//div[@class='MuiBox-root css-r7ft4d']/div[{design_dict[design]}]\").click()"
   ]
  },
  {
   "cell_type": "code",
   "execution_count": 43,
   "id": "9295865b-c43b-43ae-9261-fde332201124",
   "metadata": {},
   "outputs": [],
   "source": [
    "textarea = driver.find_element(By.XPATH, \"//textarea[@placeholder='Describe what you want to see']\")\n",
    "textarea.send_keys(\"Hello, this is a test input from Selenium!\")"
   ]
  },
  {
   "cell_type": "code",
   "execution_count": 45,
   "id": "eb777df9-0145-4fd7-9c5b-7b1ec81b55a3",
   "metadata": {},
   "outputs": [],
   "source": [
    "data = \"Visual Description: The artwork features a whimsical gnome dressed as a Halloween witch, riding a broomstick against a large, stylized full moon backdrop. The gnome has a long white beard, a bulbous nose, and wears a large, pointed purple witch's hat adorned with gold stars and a purple band.  The gnome's attire is dark purple with gold star accents, matching the hat.  He clutches the broomstick with gloved hands. The broomstick is wooden and appears to have some texture. The moon is a dominant element, rendered in a warm golden-orange hue, contrasting against the dark background. It has a slightly textured surface, hinting at craters, and emits a soft glow that illuminates the surrounding scene.  Bats silhouette against the moon, adding to the Halloween theme.  Purple and orange glowing jack-o'-lanterns sit in the foreground, flanked by stylized purple flowers with glowing centers.  Hanging lanterns with glowing candles add to the magical ambiance.  The overall scene has a soft, diffused glow, with highlights on the gnome, moon, pumpkins, and flowers. The background is a deep, dark purple-black, speckled with small, glittering stars, giving a sense of depth; Art Style: Whimsical, illustrative digital painting with a blend of cartoonish character design and detailed background elements, featuring glowing effects and soft, painterly textures; Mood: Playful, magical, whimsical with a touch of Halloween spookiness; Layout: Centered composition with the gnome and moon as focal points, balanced by the surrounding elements.  Elements like flowers, lanterns, and bats create a frame around the central figures, leading the eye inward; Font: no text present\""
   ]
  },
  {
   "cell_type": "code",
   "execution_count": 46,
   "id": "a269d2ea-037c-489a-953d-8ca10d0f75f3",
   "metadata": {},
   "outputs": [],
   "source": [
    "textarea.send_keys(data)"
   ]
  },
  {
   "cell_type": "code",
   "execution_count": 19,
   "id": "54627522-5933-42e3-8dae-3a6a71768fdc",
   "metadata": {},
   "outputs": [],
   "source": [
    "actions = ActionChains(driver)\n",
    "actions.double_click(textarea).perform()"
   ]
  },
  {
   "cell_type": "code",
   "execution_count": 44,
   "id": "7ddc34eb-934c-4e13-a570-b6b77e35887e",
   "metadata": {},
   "outputs": [],
   "source": [
    "textarea.send_keys(Keys.CONTROL, 'a')\n",
    "textarea.send_keys(Keys.DELETE)"
   ]
  },
  {
   "cell_type": "code",
   "execution_count": 48,
   "id": "8d8da888-1444-4e33-9a6d-6322af4e538d",
   "metadata": {},
   "outputs": [],
   "source": [
    "generate_button = driver.find_element(\n",
    "    By.XPATH, \"(//div[@class='MuiBox-root css-hn2z7n']//button[contains(@class, 'MuiButtonBase-root')])[2]\")"
   ]
  },
  {
   "cell_type": "code",
   "execution_count": 49,
   "id": "6693542b-2117-4364-8907-130add4c4d59",
   "metadata": {},
   "outputs": [],
   "source": [
    "generate_button.click()"
   ]
  },
  {
   "cell_type": "code",
   "execution_count": 51,
   "id": "3813124b-bb8b-4975-a2c4-d9e60977c48a",
   "metadata": {},
   "outputs": [],
   "source": [
    "p_elem = WebDriverWait(driver, 10).until(\n",
    "        EC.presence_of_element_located(\n",
    "            (By.XPATH, \n",
    "             \"//p[@class='MuiTypography-root MuiTypography-body1 css-1bhxqar']\")))"
   ]
  },
  {
   "cell_type": "code",
   "execution_count": 52,
   "id": "57236631-1d72-49c2-8c06-34fc531fcc37",
   "metadata": {},
   "outputs": [
    {
     "data": {
      "text/plain": [
       "'Generation complete'"
      ]
     },
     "execution_count": 52,
     "metadata": {},
     "output_type": "execute_result"
    }
   ],
   "source": [
    "p_elem.text"
   ]
  },
  {
   "cell_type": "code",
   "execution_count": 54,
   "id": "05266fdc-9dc3-49db-8564-ce67a8bce476",
   "metadata": {},
   "outputs": [],
   "source": [
    "img_elem = WebDriverWait(driver, 10).until(\n",
    "        EC.presence_of_all_elements_located(\n",
    "            (By.XPATH, \"//div[@class='MuiGrid-root MuiGrid-item MuiGrid-grid-xs-6 css-1s50f5r']\")))"
   ]
  },
  {
   "cell_type": "code",
   "execution_count": 55,
   "id": "ce22a518-0d77-4034-9ddd-00971e00a6e2",
   "metadata": {},
   "outputs": [
    {
     "data": {
      "text/plain": [
       "[<selenium.webdriver.remote.webelement.WebElement (session=\"b0b6b3aa29e2e9c1bcad47d819662226\", element=\"f.BEEF5FA595A29091AFBCD36B316625D7.d.FB78C8CF72DDB554114887982606639F.e.51598\")>,\n",
       " <selenium.webdriver.remote.webelement.WebElement (session=\"b0b6b3aa29e2e9c1bcad47d819662226\", element=\"f.BEEF5FA595A29091AFBCD36B316625D7.d.FB78C8CF72DDB554114887982606639F.e.51599\")>]"
      ]
     },
     "execution_count": 55,
     "metadata": {},
     "output_type": "execute_result"
    }
   ],
   "source": [
    "img_elem"
   ]
  },
  {
   "cell_type": "code",
   "execution_count": 16,
   "id": "bd23bb94-e4b7-4364-9de9-61dbc6540400",
   "metadata": {},
   "outputs": [
    {
     "name": "stdout",
     "output_type": "stream",
     "text": [
      "403\n"
     ]
    }
   ],
   "source": [
    "path = \"a.png\"\n",
    "headers = {\n",
    "        'User-Agent': 'Mozilla/5.0 (Windows NT 10.0; Win64; x64) AppleWebKit/537.36 (KHTML, like Gecko) Chrome/120.0.0.0 Safari/537.36',\n",
    "        'Accept': 'image/webp,image/apng,image/*,*/*;q=0.8',\n",
    "        'Accept-Language': 'en-US,en;q=0.9',\n",
    "        'Accept-Encoding': 'gzip, deflate, br',\n",
    "        'Referer': 'malworld.org',\n",
    "        'Sec-Fetch-Dest': 'image',\n",
    "        'Sec-Fetch-Mode': 'no-cors',\n",
    "        'Sec-Fetch-Site': 'same-origin',\n",
    "        'Cache-Control': 'no-cache',\n",
    "        'Pragma': 'no-cache'\n",
    "    }\n",
    "response = requests.get(\n",
    "    url=\"https://ideogram.ai/assets/progressive-image/fast/response/nLaXuikhTESCq5QpRdy36g\", \n",
    "    timeout=10, headers=headers)\n",
    "if response.status_code == 200:\n",
    "    with open(path, 'wb') as f:\n",
    "        f.write(response.content)\n",
    "else:\n",
    "    print(response.status_code)"
   ]
  },
  {
   "cell_type": "code",
   "execution_count": 9,
   "id": "2a74ff84",
   "metadata": {},
   "outputs": [],
   "source": [
    "cookies = driver.get_cookies()"
   ]
  },
  {
   "cell_type": "code",
   "execution_count": 10,
   "id": "64c06332",
   "metadata": {},
   "outputs": [],
   "source": [
    "session = requests.Session()\n",
    "for cookie in cookies:\n",
    "    session.cookies.set(cookie['name'], cookie['value'])"
   ]
  },
  {
   "cell_type": "code",
   "execution_count": 11,
   "id": "4bb54d3f",
   "metadata": {},
   "outputs": [],
   "source": [
    "session.headers.update({\n",
    "            'User-Agent': driver.execute_script(\"return navigator.userAgent;\"),\n",
    "            'Referer': 'https://ideogram.ai/'\n",
    "        })\n",
    "        \n",
    "        # Download the image\n",
    "response = session.get(url, timeout=15)"
   ]
  },
  {
   "cell_type": "code",
   "execution_count": 12,
   "id": "ed093686",
   "metadata": {},
   "outputs": [
    {
     "data": {
      "text/plain": [
       "403"
      ]
     },
     "execution_count": 12,
     "metadata": {},
     "output_type": "execute_result"
    }
   ],
   "source": [
    "response.status_code"
   ]
  },
  {
   "cell_type": "code",
   "execution_count": 13,
   "id": "7091954d",
   "metadata": {},
   "outputs": [
    {
     "data": {
      "text/plain": [
       "'https://ideogram.ai/assets/progressive-image/fast/response/nLaXuikhTESCq5QpRdy36g'"
      ]
     },
     "execution_count": 13,
     "metadata": {},
     "output_type": "execute_result"
    }
   ],
   "source": [
    "url"
   ]
  },
  {
   "cell_type": "code",
   "execution_count": 14,
   "id": "9a713ac3",
   "metadata": {},
   "outputs": [
    {
     "data": {
      "text/plain": [
       "'Mozilla/5.0 (Windows NT 10.0; Win64; x64) AppleWebKit/537.36 (KHTML, like Gecko) Chrome/135.0.0.0 Safari/537.36'"
      ]
     },
     "execution_count": 14,
     "metadata": {},
     "output_type": "execute_result"
    }
   ],
   "source": [
    "driver.execute_script(\"return navigator.userAgent;\")"
   ]
  },
  {
   "cell_type": "code",
   "execution_count": 15,
   "id": "933ffc48",
   "metadata": {},
   "outputs": [
    {
     "data": {
      "text/plain": [
       "[{'domain': '.ideogram.ai',\n",
       "  'expiry': 1785084420,\n",
       "  'httpOnly': False,\n",
       "  'name': '_ga_44J8R31CP6',\n",
       "  'path': '/',\n",
       "  'sameSite': 'Lax',\n",
       "  'secure': False,\n",
       "  'value': 'GS2.1.s1750523408$o10$g1$t1750524420$j55$l0$h0'},\n",
       " {'domain': 'ideogram.ai',\n",
       "  'expiry': 1750525324,\n",
       "  'httpOnly': False,\n",
       "  'name': '_dd_s',\n",
       "  'path': '/',\n",
       "  'sameSite': 'Strict',\n",
       "  'secure': False,\n",
       "  'value': 'aid=fb6f8e92-a5ed-4140-a36e-7b56367e9bb3&rum=0&expire=1750525323199'},\n",
       " {'domain': '.ideogram.ai',\n",
       "  'expiry': 1782060415,\n",
       "  'httpOnly': True,\n",
       "  'name': 'cf_clearance',\n",
       "  'path': '/',\n",
       "  'sameSite': 'None',\n",
       "  'secure': True,\n",
       "  'value': 'OoNFpzH9OzgC7kU_dFyFqAMkQa8__MIAcw8m1pMRyvQ-1750524425-1.2.1.1-r_Bh2jWsEUrikbEs0MgvAYgqfkMdja_B.Q197HM2n2y.bZwvAajwIAMVfV5rOyoDnR3NjA4Wi.GiJbKoqWk5h2sBpbb8MJSZw.vwJHiCOrMSMF2xnkBcnp9yisIWGI1g.q6.hvA0JbPA14TouALlEZNhJfoRohWJXuCfmFUSvr5zmHvrWf26f_dCNPkxyovB6_Ei15atQqG9Kw8zWjgWntl1hqnT.z6xMP.gPHHDsPpOVOqt3o0gi72Cqgn.tA5D6PVLxngSMFRYAJZDqqWt2jrr2XtbmcIkRdg4OlDTL8u5wvVqZv3d6XjbgsqvaGHpX7UpwBxqZ7VL1ioRtqBbX.Bi4fbIBRWuBOnsBWxTSm0'},\n",
       " {'domain': 'ideogram.ai',\n",
       "  'expiry': 1751734018,\n",
       "  'httpOnly': True,\n",
       "  'name': 'session_cookie',\n",
       "  'path': '/',\n",
       "  'sameSite': 'Lax',\n",
       "  'secure': True,\n",
       "  'value': 'eyJhbGciOiJSUzI1NiIsImtpZCI6Ik4yQlkwQSJ9.eyJpc3MiOiJodHRwczovL3Nlc3Npb24uZmlyZWJhc2UuZ29vZ2xlLmNvbS9pZGVvZ3JhbS1wcm9kIiwibmFtZSI6ImNodW5nIGNodSIsInBpY3R1cmUiOiJodHRwczovL2xoMy5nb29nbGV1c2VyY29udGVudC5jb20vYS9BQ2c4b2NLSzhyNXdmX3JaV0J0Y1haSG1DUkczOFBQNHRuOGFJQ1lWR25GSnF3cHVNU2lBNUFcdTAwM2RzOTYtYyIsImF1ZCI6ImlkZW9ncmFtLXByb2QiLCJhdXRoX3RpbWUiOjE3NTAxNzY3NzgsInVzZXJfaWQiOiJ1V2w5YkxYVUJCUUVkWU56enB6WFpQVzJzNngxIiwic3ViIjoidVdsOWJMWFVCQlFFZFlOenpwelhaUFcyczZ4MSIsImlhdCI6MTc1MDUyNDQyNywiZXhwIjoxNzUxNzM0MDI3LCJlbWFpbCI6ImNodW5nbG9hcDg0M0BnbWFpbC5jb20iLCJlbWFpbF92ZXJpZmllZCI6dHJ1ZSwiZmlyZWJhc2UiOnsiaWRlbnRpdGllcyI6eyJnb29nbGUuY29tIjpbIjExNjA0MjA0NjEwNTM0OTY0ODgxMCJdLCJlbWFpbCI6WyJjaHVuZ2xvYXA4NDNAZ21haWwuY29tIl19LCJzaWduX2luX3Byb3ZpZGVyIjoiZ29vZ2xlLmNvbSJ9fQ.eXTaZsXTZpUelU8CCHS_W5ZWntMMtmgm2-cBpneSt8t_Q9jlaJ61yOTUPLJh35qTD6_Qd9u-bA7ZiSZ0A2ZI_S8oXjpXlg6l0-rYDePXU_vTlY5jyN03Gssh0S3lABZ8JoiR2udN_Sh0YV8LoccKbMs_5rImUuDezW8URH-q_UhW11nrx_RU_tBbewUrZ4gNZdA3r1WDTmOYLWYu2NpEjKgRMla8_7gSMn7Ue4pZmQ4mtWBUef6SrOE5coeN6etmV09hKW4o247TNEEMhUc8a-awJj2Et32Pxv2Kx1Ke1HH5LTpMoinrPK5-rmaAsdxMhwPP3YfI-Po7D-wnaH-fjg'},\n",
       " {'domain': '.ideogram.ai',\n",
       "  'expiry': 1782060419,\n",
       "  'httpOnly': False,\n",
       "  'name': 'AMP_da0464495c',\n",
       "  'path': '/',\n",
       "  'sameSite': 'Lax',\n",
       "  'secure': False,\n",
       "  'value': 'JTdCJTIyZGV2aWNlSWQlMjIlM0ElMjI5M2I4YWI5NS0wODY4LTQ2MGMtYjAzOS1lYjY2OWM4YTgyNzAlMjIlMkMlMjJ1c2VySWQlMjIlM0ElMjJwTzZrMFJpZVRTNlpfRkFHa3dyendBJTIyJTJDJTIyc2Vzc2lvbklkJTIyJTNBMTc1MDUyMzQxMDMyNSUyQyUyMm9wdE91dCUyMiUzQWZhbHNlJTJDJTIybGFzdEV2ZW50VGltZSUyMiUzQTE3NTA1MjQ0MTk4NTElMkMlMjJsYXN0RXZlbnRJZCUyMiUzQTIzNyUyQyUyMnBhZ2VDb3VudGVyJTIyJTNBMiU3RA=='},\n",
       " {'domain': '.ideogram.ai',\n",
       "  'expiry': 1750526214,\n",
       "  'httpOnly': True,\n",
       "  'name': '__cf_bm',\n",
       "  'path': '/',\n",
       "  'sameSite': 'None',\n",
       "  'secure': True,\n",
       "  'value': 'KGn2BRcm5Yqy.R7CWlmI2IRDCyCXIMZZzYhSGJj0WNg-1750524424-1.0.1.1-oaAW1YWPddkvswM0O4YsaLOC94_cX9vyPPBji6AwAhz3bSQ8PCKrPfVBKsTCT2mO5c3P2YutnQrHmo2aUuJtT4vNqF_.MOaNgs7p2UhDPtU'},\n",
       " {'domain': '.ideogram.ai',\n",
       "  'expiry': 1785084415,\n",
       "  'httpOnly': False,\n",
       "  'name': '_ga',\n",
       "  'path': '/',\n",
       "  'sameSite': 'Lax',\n",
       "  'secure': False,\n",
       "  'value': 'GA1.1.1709531111.1749991960'},\n",
       " {'domain': '.ideogram.ai',\n",
       "  'expiry': 1781527963,\n",
       "  'httpOnly': False,\n",
       "  'name': 'AMP_MKTG_da0464495c',\n",
       "  'path': '/',\n",
       "  'sameSite': 'Lax',\n",
       "  'secure': False,\n",
       "  'value': 'JTdCJTdE'}]"
      ]
     },
     "execution_count": 15,
     "metadata": {},
     "output_type": "execute_result"
    }
   ],
   "source": [
    "cookies"
   ]
  },
  {
   "cell_type": "code",
   "execution_count": 18,
   "id": "a6bd0dc2",
   "metadata": {},
   "outputs": [
    {
     "name": "stdout",
     "output_type": "stream",
     "text": [
      "Downloaded via base64: image_selenium.jpg\n"
     ]
    },
    {
     "data": {
      "text/plain": [
       "True"
      ]
     },
     "execution_count": 18,
     "metadata": {},
     "output_type": "execute_result"
    }
   ],
   "source": [
    "import base64\n",
    "import requests\n",
    "\n",
    "def download_directly_with_selenium(url, save_path, driver):\n",
    "    \n",
    "    try:\n",
    "        # Navigate to the image URL directly\n",
    "        driver.get(url)\n",
    "        \n",
    "        # Method A: Get image as base64 (for images displayed in browser)\n",
    "        try:\n",
    "            # Execute JavaScript to get image as base64\n",
    "            canvas_script = \"\"\"\n",
    "            var img = document.querySelector('img') || document.body;\n",
    "            var canvas = document.createElement('canvas');\n",
    "            var ctx = canvas.getContext('2d');\n",
    "            \n",
    "            if (img.tagName === 'IMG') {\n",
    "                canvas.width = img.naturalWidth;\n",
    "                canvas.height = img.naturalHeight;\n",
    "                ctx.drawImage(img, 0, 0);\n",
    "                return canvas.toDataURL('image/png').split(',')[1];\n",
    "            }\n",
    "            return null;\n",
    "            \"\"\"\n",
    "            \n",
    "            base64_image = driver.execute_script(canvas_script)\n",
    "            \n",
    "            if base64_image:\n",
    "                # Decode and save\n",
    "                image_data = base64.b64decode(base64_image)\n",
    "                with open(save_path, 'wb') as f:\n",
    "                    f.write(image_data)\n",
    "                print(f\"Downloaded via base64: {save_path}\")\n",
    "                return True\n",
    "                \n",
    "        except Exception as e:\n",
    "            print(f\"Base64 method failed: {e}\")\n",
    "        \n",
    "        # Method B: Use browser's fetch API\n",
    "        fetch_script = f\"\"\"\n",
    "        return fetch('{url}')\n",
    "            .then(response => response.blob())\n",
    "            .then(blob => {{\n",
    "                return new Promise((resolve) => {{\n",
    "                    const reader = new FileReader();\n",
    "                    reader.onloadend = () => resolve(reader.result.split(',')[1]);\n",
    "                    reader.readAsDataURL(blob);\n",
    "                }});\n",
    "            }});\n",
    "        \"\"\"\n",
    "        \n",
    "        try:\n",
    "            base64_data = driver.execute_async_script(f\"\"\"\n",
    "                var callback = arguments[arguments.length - 1];\n",
    "                {fetch_script}.then(callback);\n",
    "            \"\"\")\n",
    "            \n",
    "            if base64_data:\n",
    "                image_data = base64.b64decode(base64_data)\n",
    "                with open(save_path, 'wb') as f:\n",
    "                    f.write(image_data)\n",
    "                print(f\"Downloaded via fetch: {save_path}\")\n",
    "                return True\n",
    "                \n",
    "        except Exception as e:\n",
    "            print(f\"Fetch method failed: {e}\")\n",
    "        \n",
    "        return False\n",
    "        \n",
    "\n",
    "# Usage\n",
    "url = \"https://ideogram.ai/assets/progressive-image/fast/response/nLaXuikhTESCq5QpRdy36g\"\n",
    "download_directly_with_selenium(url, \"image_selenium.jpg\", driver_3)"
   ]
  },
  {
   "cell_type": "code",
   "execution_count": 19,
   "id": "cd7c9bb8",
   "metadata": {},
   "outputs": [],
   "source": [
    "driver.quit()"
   ]
  },
  {
   "cell_type": "code",
   "execution_count": null,
   "id": "43e28d0a",
   "metadata": {},
   "outputs": [],
   "source": []
  }
 ],
 "metadata": {
  "kernelspec": {
   "display_name": "Python 3 (ipykernel)",
   "language": "python",
   "name": "python3"
  },
  "language_info": {
   "codemirror_mode": {
    "name": "ipython",
    "version": 3
   },
   "file_extension": ".py",
   "mimetype": "text/x-python",
   "name": "python",
   "nbconvert_exporter": "python",
   "pygments_lexer": "ipython3",
   "version": "3.10.0"
  }
 },
 "nbformat": 4,
 "nbformat_minor": 5
}
